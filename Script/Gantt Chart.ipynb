{
 "cells": [
  {
   "cell_type": "code",
   "execution_count": null,
   "metadata": {},
   "outputs": [],
   "source": []
  },
  {
   "cell_type": "code",
   "execution_count": 2,
   "metadata": {
    "collapsed": false,
    "pycharm": {
     "name": "#%%\n"
    }
   },
   "outputs": [
    {
     "data": {
      "image/png": "[encoded data removed]",
      "text/plain": [
       "<Figure size 432x288 with 1 Axes>"
      ]
     },
     "metadata": {},
     "output_type": "display_data"
    }
   ],
   "source": [
    "# Importing the matplotlib.pyplot\n",
    "import matplotlib.pyplot as plt\n",
    "import numpy as np\n",
    "import seaborn as sns\n",
    "\n",
    "sns.set_style('dark')\n",
    "# Declaring a figure \"gnt\"\n",
    "fig, gnt = plt.subplots()\n",
    "\n",
    "# Setting Y-axis limits\n",
    "gnt.set_ylim(0, 50)\n",
    "\n",
    "# Setting X-axis limits\n",
    "gnt.set_xlim(0, 160)\n",
    "\n",
    "# Setting labels for x-axis and y-axis\n",
    "gnt.set_xlabel('Restoration Period')\n",
    "gnt.set_ylabel('Link')\n",
    "\n",
    "# Setting ticks on y-axis\n",
    "gnt.set_yticks([7.5, 17.5, 27.5, 37.5, 47.5,57.5])\n",
    "# Labelling tickes of y-axis\n",
    "gnt.set_yticklabels(['3', '5', '3','6','7','8'])\n",
    "\n",
    "# Setting graph attribute\n",
    "gnt.grid(False)\n",
    "\n",
    "# Declaring a bar in schedule\n",
    "gnt.broken_barh([(40, 50)], (27.5, 5), facecolors =('tab:blue'))\n",
    "\n",
    "# Declaring multiple bars in at same level and same width\n",
    "gnt.broken_barh([(110, 10), (150, 10)], (17.5, 5),\n",
    "                         facecolors ='tab:blue')\n",
    "\n",
    "gnt.broken_barh([(10, 50), (100, 20), (130, 10)], (7.5, 5),\n",
    "                                  facecolors =('tab:red'))\n",
    "\n",
    "y = np.linspace(20,30,20)\n",
    "# x =np.linspace(1,150,20)\n",
    "\n",
    "plt.plot(x,y)\n",
    "\n",
    "plt.savefig(\"gantt1.png\")"
   ]
  }
 ],
 "metadata": {
  "kernelspec": {
   "display_name": "Python 3",
   "language": "python",
   "name": "python3"
  },
  "language_info": {
   "codemirror_mode": {
    "name": "ipython",
    "version": 3
   },
   "file_extension": ".py",
   "mimetype": "text/x-python",
   "name": "python",
   "nbconvert_exporter": "python",
   "pygments_lexer": "ipython3",
   "version": "3.7.9"
  }
 },
 "nbformat": 4,
 "nbformat_minor": 0
}