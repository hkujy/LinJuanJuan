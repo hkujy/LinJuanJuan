{
 "cells": [
  {
   "cell_type": "markdown",
   "metadata": {},
   "source": [
    "# Todo \n",
    "1. add the pyga to the main python code \n",
    "2. read failure link\n",
    "3. convert ga solution to the failure link index for aug value"
   ]
  },
  {
   "cell_type": "markdown",
   "metadata": {},
   "source": []
  },
  {
   "cell_type": "code",
   "execution_count": null,
   "metadata": {},
   "outputs": [],
   "source": [
    "import numpy as np\n",
    "from geneticalgorithm import geneticalgorithm as ga\n",
    "import subprocess\n",
    "np.__version__"
   ]
  },
  {
   "cell_type": "code",
   "execution_count": null,
   "metadata": {},
   "outputs": [],
   "source": [
    "# import numpy as np\n",
    "# from geneticalgorithm import geneticalgorithm as ga\n",
    "# import subprocess\n",
    "# program='c:/GitCodes/LinJuanJuan/x64/Release/NetworkResilience.exe'\n",
    "# aug = \"15 2 8 12 7\"\n",
    "# excute = program + \" \" + aug\n",
    "# print(excute)\n",
    "# p = subprocess.Popen(excute,\n",
    "#                      shell=True,\n",
    "#                      stdout=subprocess.PIPE,\n",
    "#                      stderr=subprocess.STDOUT,\n",
    "#                      close_fds=True,\n",
    "#                      encoding='utf-8')\n",
    "# strval = p.communicate()[0]\n",
    "# # print(p.communicate()[0])\n",
    "# print (strval)\n",
    "# sv = strval.split(sep='\\n')\n",
    "# print(\"final\")\n",
    "# print(\"size = {0}\".format(len(sv)))\n",
    "# print(sv[-1])"
   ]
  },
  {
   "cell_type": "markdown",
   "metadata": {},
   "source": [
    "# the code is create to use ga package to solve the problem"
   ]
  },
  {
   "cell_type": "code",
   "execution_count": null,
   "metadata": {},
   "outputs": [],
   "source": [
    "def f(X):\n",
    "    dp = {}\n",
    "    for i in range(0,len(X)):\n",
    "        key =str(i)\n",
    "        dp[key] = X[i]\n",
    "    print(\"------------\")\n",
    "    sd = sorted(dp.items(),key=lambda d:d[1])\n",
    "    print(sd)\n",
    "    print(\"------------\")\n",
    "    # print the sol in file\n",
    "    aug = \"\"\n",
    "    for e in range(0,len(sd)-1):\n",
    "        aug = aug + str(sd[e][0])+\" \"\n",
    "    aug = aug + str(sd[-1][0])\n",
    "    aug = \"15 2 8 12 7\"\n",
    "    program='c:/GitCodes/LinJuanJuan/x64/Release/NetworkResilience.exe'\n",
    "    # print(aug)\n",
    "    excute = program + \" \" + aug\n",
    "    print(excute)\n",
    "    p = subprocess.Popen(excute,\n",
    "                     shell=True,\n",
    "                     stdout=subprocess.PIPE,\n",
    "                     stderr=subprocess.STDOUT,\n",
    "                     close_fds=True,\n",
    "                     encoding='utf-8')\n",
    "    # print(float(p.communicate()[0]))\n",
    "    strval = p.communicate()[0]\n",
    "    sv = strval.split(sep='\\n')\n",
    "    print(sv[-1])\n",
    "    # input()\n",
    "    res = float(sv[-1])\n",
    "    # print(res)\n",
    "    # return np.sum(X)\n",
    "    return res"
   ]
  },
  {
   "cell_type": "code",
   "execution_count": 10,
   "metadata": {},
   "outputs": [
    {
     "ename": "TypeError",
     "evalue": "f() missing 1 required positional argument: '_ps'",
     "output_type": "error",
     "traceback": [
      "\u001b[1;31m---------------------------------------------------------------------------\u001b[0m",
      "\u001b[1;31mTypeError\u001b[0m                                 Traceback (most recent call last)",
      "\u001b[1;32m~\\AppData\\Local\\Temp/ipykernel_18688/3097159411.py\u001b[0m in \u001b[0;36m<module>\u001b[1;34m\u001b[0m\n\u001b[0;32m     13\u001b[0m                    'random_seed':1}\n\u001b[0;32m     14\u001b[0m \u001b[0mp\u001b[0m\u001b[1;33m=\u001b[0m\u001b[1;36m0\u001b[0m\u001b[1;33m\u001b[0m\u001b[1;33m\u001b[0m\u001b[0m\n\u001b[1;32m---> 15\u001b[1;33m model=ga(function=f(p),\\\n\u001b[0m\u001b[0;32m     16\u001b[0m             \u001b[0mdimension\u001b[0m\u001b[1;33m=\u001b[0m\u001b[0mNumOfLinks\u001b[0m\u001b[1;33m,\u001b[0m\u001b[0;31m\\\u001b[0m\u001b[1;33m\u001b[0m\u001b[1;33m\u001b[0m\u001b[0m\n\u001b[0;32m     17\u001b[0m             \u001b[0mvariable_type\u001b[0m\u001b[1;33m=\u001b[0m\u001b[1;34m'real'\u001b[0m\u001b[1;33m,\u001b[0m\u001b[0;31m\\\u001b[0m\u001b[1;33m\u001b[0m\u001b[1;33m\u001b[0m\u001b[0m\n",
      "\u001b[1;31mTypeError\u001b[0m: f() missing 1 required positional argument: '_ps'"
     ]
    }
   ],
   "source": [
    "NumOfLinks = 5\n",
    "varbound=np.array([[0,1]]*NumOfLinks)\n",
    "#TODO: Read number of failure links\n",
    "\n",
    "algorithm_param = {'max_num_iteration': 2,\\\n",
    "                   'population_size':4,\\\n",
    "                   'mutation_probability':0.1,\\\n",
    "                   'elit_ratio': 0.01,\\\n",
    "                   'crossover_probability': 0.5,\\\n",
    "                   'parents_portion': 0.3,\\\n",
    "                   'crossover_type':'uniform',\\\n",
    "                   'max_iteration_without_improv':None,\n",
    "                   'random_seed':1}\n",
    "\n",
    "model=ga(function=f,\\\n",
    "            dimension=NumOfLinks,\\\n",
    "            variable_type='real',\\\n",
    "            variable_boundaries=varbound,\\\n",
    "            algorithm_parameters=algorithm_param)\n",
    "\n",
    "model.run()"
   ]
  },
  {
   "cell_type": "code",
   "execution_count": null,
   "metadata": {},
   "outputs": [],
   "source": [
    "algorithm_param = {'max_num_iteration': 2,\\\n",
    "                   'population_size':4,\\\n",
    "                   'mutation_probability':0.1,\\\n",
    "                   'elit_ratio': 0.01,\\\n",
    "                   'crossover_probability': 0.5,\\\n",
    "                   'parents_portion': 0.3,\\\n",
    "                   'crossover_type':'uniform',\\\n",
    "                   'max_iteration_without_improv':None,\n",
    "                   'random_seed':10}\n",
    "\n",
    "model=ga(function=f,\\\n",
    "            dimension=NumOfLinks,\\\n",
    "            variable_type='real',\\\n",
    "            variable_boundaries=varbound,\\\n",
    "            algorithm_parameters=algorithm_param)\n",
    "\n",
    "model.run()"
   ]
  },
  {
   "cell_type": "code",
   "execution_count": null,
   "metadata": {},
   "outputs": [],
   "source": [
    "algorithm_param = {'max_num_iteration': 2,\\\n",
    "                   'population_size':4,\\\n",
    "                   'mutation_probability':0.1,\\\n",
    "                   'elit_ratio': 0.01,\\\n",
    "                   'crossover_probability': 0.5,\\\n",
    "                   'parents_portion': 0.3,\\\n",
    "                   'crossover_type':'uniform',\\\n",
    "                   'max_iteration_without_improv':None,\n",
    "                   'random_seed':1}\n",
    "\n",
    "model=ga(function=f,\\\n",
    "            dimension=NumOfLinks,\\\n",
    "            variable_type='real',\\\n",
    "            variable_boundaries=varbound,\\\n",
    "            algorithm_parameters=algorithm_param)\n",
    "\n",
    "model.run()"
   ]
  }
 ],
 "metadata": {
  "interpreter": {
   "hash": "a7363d1a7b55230da552f9ebb82480d153a8693c9104fdb4757f3a598c9640b3"
  },
  "kernelspec": {
   "display_name": "Python 3.7.9 64-bit",
   "language": "python",
   "name": "python3"
  },
  "language_info": {
   "codemirror_mode": {
    "name": "ipython",
    "version": 3
   },
   "file_extension": ".py",
   "mimetype": "text/x-python",
   "name": "python",
   "nbconvert_exporter": "python",
   "pygments_lexer": "ipython3",
   "version": "3.7.9"
  },
  "orig_nbformat": 4
 },
 "nbformat": 4,
 "nbformat_minor": 2
}
